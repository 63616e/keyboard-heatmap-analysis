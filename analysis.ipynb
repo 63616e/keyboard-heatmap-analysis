{
 "cells": [
  {
   "cell_type": "code",
   "execution_count": 442,
   "metadata": {},
   "outputs": [],
   "source": [
    "import pandas as pd \n",
    "import numpy as np\n",
    "# use kmeans and plot the cluster \n",
    "from sklearn.cluster import KMeans\n",
    "pd.options.mode.chained_assignment = None\n",
    "import plotly.express as px\n",
    "import matplotlib.pyplot as plt\n",
    "import seaborn as sns\n",
    "import warnings\n",
    "warnings.simplefilter(action='ignore', category=FutureWarning)\n",
    "import pandas"
   ]
  },
  {
   "cell_type": "code",
   "execution_count": 443,
   "metadata": {},
   "outputs": [],
   "source": [
    "df_mac = pd.read_csv('csv_files/mac_data.csv')\n",
    "df_windows = pd.read_csv('csv_files/windows_data.csv')"
   ]
  },
  {
   "cell_type": "code",
   "execution_count": 444,
   "metadata": {},
   "outputs": [
    {
     "data": {
      "text/html": [
       "<div>\n",
       "<style scoped>\n",
       "    .dataframe tbody tr th:only-of-type {\n",
       "        vertical-align: middle;\n",
       "    }\n",
       "\n",
       "    .dataframe tbody tr th {\n",
       "        vertical-align: top;\n",
       "    }\n",
       "\n",
       "    .dataframe thead th {\n",
       "        text-align: right;\n",
       "    }\n",
       "</style>\n",
       "<table border=\"1\" class=\"dataframe\">\n",
       "  <thead>\n",
       "    <tr style=\"text-align: right;\">\n",
       "      <th></th>\n",
       "      <th>Keycode</th>\n",
       "      <th>Keyname</th>\n",
       "      <th>Keycount</th>\n",
       "    </tr>\n",
       "  </thead>\n",
       "  <tbody>\n",
       "    <tr>\n",
       "      <th>0</th>\n",
       "      <td>49</td>\n",
       "      <td>1</td>\n",
       "      <td>1061</td>\n",
       "    </tr>\n",
       "    <tr>\n",
       "      <th>1</th>\n",
       "      <td>50</td>\n",
       "      <td>2</td>\n",
       "      <td>757</td>\n",
       "    </tr>\n",
       "    <tr>\n",
       "      <th>2</th>\n",
       "      <td>51</td>\n",
       "      <td>3</td>\n",
       "      <td>629</td>\n",
       "    </tr>\n",
       "    <tr>\n",
       "      <th>3</th>\n",
       "      <td>52</td>\n",
       "      <td>4</td>\n",
       "      <td>502</td>\n",
       "    </tr>\n",
       "    <tr>\n",
       "      <th>4</th>\n",
       "      <td>53</td>\n",
       "      <td>5</td>\n",
       "      <td>468</td>\n",
       "    </tr>\n",
       "  </tbody>\n",
       "</table>\n",
       "</div>"
      ],
      "text/plain": [
       "   Keycode Keyname  Keycount\n",
       "0       49       1      1061\n",
       "1       50       2       757\n",
       "2       51       3       629\n",
       "3       52       4       502\n",
       "4       53       5       468"
      ]
     },
     "execution_count": 444,
     "metadata": {},
     "output_type": "execute_result"
    }
   ],
   "source": [
    "df_mac.head()\n"
   ]
  },
  {
   "cell_type": "code",
   "execution_count": 445,
   "metadata": {},
   "outputs": [
    {
     "data": {
      "text/html": [
       "<div>\n",
       "<style scoped>\n",
       "    .dataframe tbody tr th:only-of-type {\n",
       "        vertical-align: middle;\n",
       "    }\n",
       "\n",
       "    .dataframe tbody tr th {\n",
       "        vertical-align: top;\n",
       "    }\n",
       "\n",
       "    .dataframe thead th {\n",
       "        text-align: right;\n",
       "    }\n",
       "</style>\n",
       "<table border=\"1\" class=\"dataframe\">\n",
       "  <thead>\n",
       "    <tr style=\"text-align: right;\">\n",
       "      <th></th>\n",
       "      <th>Keycode</th>\n",
       "      <th>Keyname</th>\n",
       "      <th>Keycount</th>\n",
       "    </tr>\n",
       "  </thead>\n",
       "  <tbody>\n",
       "    <tr>\n",
       "      <th>0</th>\n",
       "      <td>49</td>\n",
       "      <td>1</td>\n",
       "      <td>889</td>\n",
       "    </tr>\n",
       "    <tr>\n",
       "      <th>1</th>\n",
       "      <td>50</td>\n",
       "      <td>2</td>\n",
       "      <td>588</td>\n",
       "    </tr>\n",
       "    <tr>\n",
       "      <th>2</th>\n",
       "      <td>51</td>\n",
       "      <td>3</td>\n",
       "      <td>683</td>\n",
       "    </tr>\n",
       "    <tr>\n",
       "      <th>3</th>\n",
       "      <td>52</td>\n",
       "      <td>4</td>\n",
       "      <td>317</td>\n",
       "    </tr>\n",
       "    <tr>\n",
       "      <th>4</th>\n",
       "      <td>53</td>\n",
       "      <td>5</td>\n",
       "      <td>315</td>\n",
       "    </tr>\n",
       "  </tbody>\n",
       "</table>\n",
       "</div>"
      ],
      "text/plain": [
       "   Keycode Keyname  Keycount\n",
       "0       49       1       889\n",
       "1       50       2       588\n",
       "2       51       3       683\n",
       "3       52       4       317\n",
       "4       53       5       315"
      ]
     },
     "execution_count": 445,
     "metadata": {},
     "output_type": "execute_result"
    }
   ],
   "source": [
    "df_windows.head()\n"
   ]
  },
  {
   "cell_type": "code",
   "execution_count": 446,
   "metadata": {},
   "outputs": [],
   "source": [
    "# we don't need the keycode\n",
    "df_mac = df_mac.drop('Keycode', axis=1)\n",
    "df_windows = df_windows.drop('Keycode', axis=1)"
   ]
  },
  {
   "cell_type": "code",
   "execution_count": 447,
   "metadata": {},
   "outputs": [
    {
     "data": {
      "text/html": [
       "<div>\n",
       "<style scoped>\n",
       "    .dataframe tbody tr th:only-of-type {\n",
       "        vertical-align: middle;\n",
       "    }\n",
       "\n",
       "    .dataframe tbody tr th {\n",
       "        vertical-align: top;\n",
       "    }\n",
       "\n",
       "    .dataframe thead th {\n",
       "        text-align: right;\n",
       "    }\n",
       "</style>\n",
       "<table border=\"1\" class=\"dataframe\">\n",
       "  <thead>\n",
       "    <tr style=\"text-align: right;\">\n",
       "      <th></th>\n",
       "      <th>Keyname</th>\n",
       "      <th>Keycount</th>\n",
       "    </tr>\n",
       "  </thead>\n",
       "  <tbody>\n",
       "    <tr>\n",
       "      <th>0</th>\n",
       "      <td>1</td>\n",
       "      <td>1061</td>\n",
       "    </tr>\n",
       "    <tr>\n",
       "      <th>1</th>\n",
       "      <td>2</td>\n",
       "      <td>757</td>\n",
       "    </tr>\n",
       "    <tr>\n",
       "      <th>2</th>\n",
       "      <td>3</td>\n",
       "      <td>629</td>\n",
       "    </tr>\n",
       "    <tr>\n",
       "      <th>3</th>\n",
       "      <td>4</td>\n",
       "      <td>502</td>\n",
       "    </tr>\n",
       "    <tr>\n",
       "      <th>4</th>\n",
       "      <td>5</td>\n",
       "      <td>468</td>\n",
       "    </tr>\n",
       "  </tbody>\n",
       "</table>\n",
       "</div>"
      ],
      "text/plain": [
       "  Keyname  Keycount\n",
       "0       1      1061\n",
       "1       2       757\n",
       "2       3       629\n",
       "3       4       502\n",
       "4       5       468"
      ]
     },
     "execution_count": 447,
     "metadata": {},
     "output_type": "execute_result"
    }
   ],
   "source": [
    "df_mac.head()"
   ]
  },
  {
   "cell_type": "code",
   "execution_count": 448,
   "metadata": {},
   "outputs": [
    {
     "data": {
      "text/html": [
       "<div>\n",
       "<style scoped>\n",
       "    .dataframe tbody tr th:only-of-type {\n",
       "        vertical-align: middle;\n",
       "    }\n",
       "\n",
       "    .dataframe tbody tr th {\n",
       "        vertical-align: top;\n",
       "    }\n",
       "\n",
       "    .dataframe thead th {\n",
       "        text-align: right;\n",
       "    }\n",
       "</style>\n",
       "<table border=\"1\" class=\"dataframe\">\n",
       "  <thead>\n",
       "    <tr style=\"text-align: right;\">\n",
       "      <th></th>\n",
       "      <th>Keyname</th>\n",
       "      <th>Keycount</th>\n",
       "    </tr>\n",
       "  </thead>\n",
       "  <tbody>\n",
       "    <tr>\n",
       "      <th>0</th>\n",
       "      <td>1</td>\n",
       "      <td>889</td>\n",
       "    </tr>\n",
       "    <tr>\n",
       "      <th>1</th>\n",
       "      <td>2</td>\n",
       "      <td>588</td>\n",
       "    </tr>\n",
       "    <tr>\n",
       "      <th>2</th>\n",
       "      <td>3</td>\n",
       "      <td>683</td>\n",
       "    </tr>\n",
       "    <tr>\n",
       "      <th>3</th>\n",
       "      <td>4</td>\n",
       "      <td>317</td>\n",
       "    </tr>\n",
       "    <tr>\n",
       "      <th>4</th>\n",
       "      <td>5</td>\n",
       "      <td>315</td>\n",
       "    </tr>\n",
       "  </tbody>\n",
       "</table>\n",
       "</div>"
      ],
      "text/plain": [
       "  Keyname  Keycount\n",
       "0       1       889\n",
       "1       2       588\n",
       "2       3       683\n",
       "3       4       317\n",
       "4       5       315"
      ]
     },
     "execution_count": 448,
     "metadata": {},
     "output_type": "execute_result"
    }
   ],
   "source": [
    "df_windows.head()"
   ]
  },
  {
   "cell_type": "code",
   "execution_count": 449,
   "metadata": {},
   "outputs": [
    {
     "data": {
      "image/png": "[encoded data removed]",
      "text/plain": [
       "<Figure size 432x288 with 1 Axes>"
      ]
     },
     "metadata": {
      "needs_background": "light"
     },
     "output_type": "display_data"
    }
   ],
   "source": [
    "# TODO: old kmeans code, not used anymore maybe salvage this? \n",
    "\n",
    "df_mac['Row'] = 0\n",
    "df_windows['Row'] = 0\n",
    "first_row = ['Q', 'W', 'E', 'R', 'T', 'Y', 'U', 'I', 'O', 'P']\n",
    "second_row = ['A', 'S', 'D', 'F', 'G', 'H', 'J', 'K', 'L']\n",
    "third_row = ['Z', 'X', 'C', 'V', 'B', 'N', 'M']\n",
    "\n",
    "\n",
    "for i in range(len(df_mac)):\n",
    "    if df_mac['Keyname'][i] in first_row and df_windows['Keyname'][i] in first_row:\n",
    "        df_mac['Row'][i] = 1\n",
    "        df_windows['Row'][i] = 1\n",
    "    elif df_mac['Keyname'][i] in second_row and df_windows['Keyname'][i] in first_row:\n",
    "        df_mac['Row'][i] = 2\n",
    "        df_windows['Row'][i] = 2\n",
    "    elif df_mac['Keyname'][i] in third_row and df_windows['Keyname'][i] in third_row:\n",
    "        df_mac['Row'][i] = 3\n",
    "        df_windows['Row'][i] = 3\n",
    "    else: \n",
    "        df_mac['Row'][i] = None\n",
    "        df_windows['Row'][i] = None\n",
    "\n",
    "# export to csv to see \n",
    "#do kmeans on keycount and row\n",
    "\n",
    "\n",
    "df_mac = df_mac.dropna()\n",
    "df_windows = df_windows.dropna()\n",
    "\n",
    "kmeans_mac = KMeans(n_clusters=3, random_state=0).fit(df_mac[['Keycount', 'Row']])\n",
    "\n",
    "# plot the cluster\n",
    "plt.scatter(df_mac['Keycount'], df_mac['Row'], c=kmeans_mac.labels_, cmap='rainbow')\n",
    "plt.xlabel('Keycount')\n",
    "plt.ylabel('Row')\n",
    "# write the file to output.png\n",
    "\n",
    "df_mac.head()\n",
    "# reassign the indexes \n",
    "df_mac = df_mac.reset_index(drop=True)\n",
    "\n",
    "# add the keyname to the annotation \n",
    "for i in range(len(df_mac)):\n",
    "   plt.annotate(df_mac['Keyname'][i], (df_mac['Keycount'][i] , df_mac['Row'][i] ) )\n",
    "\n",
    "# readjust the axis\n",
    "plt.savefig('plots/output.png')"
   ]
  },
  {
   "cell_type": "code",
   "execution_count": 450,
   "metadata": {},
   "outputs": [
    {
     "data": {
      "image/png": "[encoded data removed]",
      "text/plain": [
       "<Figure size 432x288 with 1 Axes>"
      ]
     },
     "metadata": {
      "needs_background": "light"
     },
     "output_type": "display_data"
    }
   ],
   "source": [
    "kmeans_windows = KMeans(n_clusters=3, random_state=0).fit(df_windows[['Keycount', 'Row']])\n",
    "\n",
    "plt.scatter(df_windows['Keycount'], df_windows['Row'],\n",
    "            c=kmeans_windows.labels_, cmap='rainbow')\n",
    "plt.xlabel('Keycount')\n",
    "plt.ylabel('Row')\n",
    "# write the file to output.png\n",
    "\n",
    "df_windows.head()\n",
    "# reassign the indexes\n",
    "df_windows = df_windows.reset_index(drop=True)\n",
    "\n",
    "# add the keyname to the annotation\n",
    "for i in range(len(df_windows)):\n",
    "   plt.annotate(df_windows['Keyname'][i],\n",
    "                (df_windows['Keycount'][i], df_windows['Row'][i]))\n",
    "\n",
    "# readjust the axis\n",
    "plt.savefig('plots/output_windows.png')"
   ]
  },
  {
   "cell_type": "code",
   "execution_count": 451,
   "metadata": {},
   "outputs": [],
   "source": [
    "df_graph_mac = pd.read_csv('csv_files/mac_data.csv')\n",
    "df_graph_windows = pd.read_csv('csv_files/windows_data.csv')"
   ]
  },
  {
   "cell_type": "code",
   "execution_count": 452,
   "metadata": {},
   "outputs": [],
   "source": [
    "# replace keyname, keycount, row as windows_keyname, windows_keycount\n",
    "df_graph_windows = df_graph_windows.rename(columns={'Keyname': 'windows_keyname','Keycount': 'windows_keycount'})\n",
    "df_graph_mac = df_graph_mac.rename(columns={'Keyname': 'mac_keyname','Keycount': 'mac_keycount'})"
   ]
  },
  {
   "cell_type": "code",
   "execution_count": 453,
   "metadata": {},
   "outputs": [],
   "source": [
    "# if keynames match then add them to a third dataframe\n",
    "df = pd.DataFrame(columns=['mac_keyname', 'mac_keycount', 'windows_keyname', 'windows_keycount'])\n",
    "for i in range(len(df_graph_mac)):\n",
    "    for j in range(len(df_graph_windows)):\n",
    "        if df_graph_mac['mac_keyname'][i] == df_graph_windows['windows_keyname'][j]:\n",
    "            df = df.append({'mac_keyname': df_graph_mac['mac_keyname'][i], 'mac_keycount': df_graph_mac['mac_keycount'][i], 'windows_keyname': df_graph_windows['windows_keyname'][j], 'windows_keycount': df_graph_windows['windows_keycount'][j]}, ignore_index=True)"
   ]
  },
  {
   "cell_type": "code",
   "execution_count": 454,
   "metadata": {},
   "outputs": [],
   "source": [
    "# remove the mac_keyname\n",
    "df = df.drop('mac_keyname', axis=1)"
   ]
  },
  {
   "cell_type": "code",
   "execution_count": 455,
   "metadata": {},
   "outputs": [],
   "source": [
    "# move the windows_keyname to the front\n",
    "df = df[['windows_keyname', 'mac_keycount', 'windows_keycount']]\n",
    "df['mac_key_frequency'] = df['mac_keycount']\n",
    "\n",
    "mac_key_freq = np.array(df['mac_keycount'])\n",
    "\n",
    "mac_key_freq = mac_key_freq/np.sum(mac_key_freq)\n",
    "\n",
    "windows_key_freq = np.array(df['windows_keycount'])\n",
    "\n",
    "windows_key_freq = windows_key_freq/np.sum(windows_key_freq)"
   ]
  },
  {
   "cell_type": "code",
   "execution_count": 456,
   "metadata": {},
   "outputs": [
    {
     "data": {
      "image/png": "[encoded data removed]",
      "text/plain": [
       "<Figure size 720x720 with 2 Axes>"
      ]
     },
     "metadata": {
      "needs_background": "light"
     },
     "output_type": "display_data"
    }
   ],
   "source": [
    "combined = np.array([mac_key_freq, windows_key_freq]) \n",
    "\n",
    "combined = combined.astype(np.float32)\n",
    "\n",
    "combined = np.transpose(combined)\n",
    "\n",
    "combined = combined *10 # out of 10 keys, how many times do you use it\n",
    "\n",
    "\n",
    "# sort data based on descending order based on mac\n",
    "combined = combined[combined[:, 0].argsort()[::-1]]\n",
    "\n",
    "sns.heatmap(combined, annot=True, xticklabels=['Mac', 'Windows'], yticklabels=df['windows_keyname'])\n",
    "\n",
    "# change the size bigger \n",
    "plt.gcf().set_size_inches(10, 10)\n",
    "\n",
    "# # change the font size of the labels\n",
    "plt.yticks(rotation=0, fontsize=5)\n",
    "plt.xticks(rotation=0, fontsize=5)\n",
    "# change the size of the labels \n",
    "plt.rcParams['font.size'] = 5\n",
    "plt.savefig('plots/output.svg')"
   ]
  },
  {
   "cell_type": "code",
   "execution_count": 457,
   "metadata": {},
   "outputs": [
    {
     "data": {
      "image/png": "[encoded data removed]",
      "text/plain": [
       "<Figure size 720x720 with 1 Axes>"
      ]
     },
     "metadata": {
      "needs_background": "light"
     },
     "output_type": "display_data"
    }
   ],
   "source": [
    "# do a stacked_histogram\n",
    "mac_freq = np.array(df['mac_keycount']) \n",
    "windows_freq = np.array(df['windows_keycount']) \n",
    "\n",
    "mac_freq = mac_freq/np.sum(mac_freq) \n",
    "windows_freq = windows_freq/np.sum(windows_freq) \n",
    "\n",
    "mac_freq= mac_freq\n",
    "windows_freq = windows_freq\n",
    "\n",
    "plt2 = plt.figure() \n",
    "# labels are the keynames\n",
    "plt2 = plt.bar(df['windows_keyname'], mac_freq, label='Mac')\n",
    "plt2 = plt.bar(df['windows_keyname'], windows_freq, bottom=mac_freq, label='Windows')\n",
    "plt2 = plt.xticks(rotation=90)\n",
    "plt2 = plt.legend()\n",
    "\n",
    "# make the size bigger\n",
    "plt2 = plt.gcf().set_size_inches(10, 10)\n",
    "# change the font size of the labels\n",
    "plt2 = plt.yticks(rotation=0, fontsize=5)\n",
    "plt2 = plt.savefig('plots/output2.svg')"
   ]
  }
 ],
 "metadata": {
  "kernelspec": {
   "display_name": "base",
   "language": "python",
   "name": "python3"
  },
  "language_info": {
   "codemirror_mode": {
    "name": "ipython",
    "version": 3
   },
   "file_extension": ".py",
   "mimetype": "text/x-python",
   "name": "python",
   "nbconvert_exporter": "python",
   "pygments_lexer": "ipython3",
   "version": "3.9.12"
  },
  "orig_nbformat": 4,
  "vscode": {
   "interpreter": {
    "hash": "38cca0c38332a56087b24af0bc80247f4fced29cb4f7f437d91dc159adec9c4e"
   }
  }
 },
 "nbformat": 4,
 "nbformat_minor": 2
}
